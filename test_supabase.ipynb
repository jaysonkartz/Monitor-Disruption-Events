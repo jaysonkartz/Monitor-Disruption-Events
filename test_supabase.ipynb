{
 "cells": [
  {
   "cell_type": "code",
   "execution_count": 1,
   "metadata": {},
   "outputs": [
    {
     "data": {
      "text/plain": [
       "dict_keys(['Airport Disruption', 'Bankruptcy', 'Business Spin-off', 'Business Sale', 'Chemical Spill', 'Corruption', 'Company Split', 'Cyber Attack', 'FDA/EMA/OSHA Action', 'Factory Fire', 'Fine', 'Geopolitical', 'Leadership Transition', 'Legal Action', 'Merger & Acquisition', 'Port Disruption', 'Protest/Riot', 'Supply Shortage', 'Earthquake', 'Extreme Weather', 'Flood', 'Hurricane', 'Tornado', 'Volcano', 'Human Health', 'Power Outage'])"
      ]
     },
     "execution_count": 1,
     "metadata": {},
     "output_type": "execute_result"
    }
   ],
   "source": [
    "x = {\n",
    "    \"Airport Disruption\": [\"airport disruption\", \"flight delay\", \"airport closure\"],\n",
    "    \"Bankruptcy\": [\"bankruptcy news\", \"financial insolvency\", \"company bankruptcy\"],\n",
    "    \"Business Spin-off\": [\"business spin-off\", \"corporate separation\", \"division spin-off\"],\n",
    "    \"Business Sale\": [\"business sale news\", \"company acquisition\", \"selling a business\"],\n",
    "    \"Chemical Spill\": [\"chemical spill\", \"toxic waste spill\", \"environmental contamination\"],\n",
    "    \"Corruption\": [\"corruption scandal\", \"government corruption\", \"bribery investigation\"],\n",
    "    \"Company Split\": [\"company split news\", \"corporate division\", \"splitting a corporation\"],\n",
    "    \"Cyber Attack\": [\"cyber attack\", \"data breach\", \"cybersecurity incident\"],\n",
    "    \"FDA/EMA/OSHA Action\": [\"FDA action\", \"EMA regulation\", \"OSHA compliance\"],\n",
    "    \"Factory Fire\": [\"factory fire\", \"industrial blaze\", \"manufacturing plant fire\"],\n",
    "    \"Fine\": [\"legal fine\", \"financial penalty\", \"monetary fine\"],\n",
    "    \"Geopolitical\": [\"geopolitical news\", \"international relations\", \"global politics\"],\n",
    "    \"Leadership Transition\": [\"leadership change\", \"CEO transition\", \"change in leadership\"],\n",
    "    \"Legal Action\": [\"legal action news\", \"lawsuit update\", \"court case\"],\n",
    "    \"Merger & Acquisition\": [\"merger and acquisition\", \"M&A news\", \"corporate merger\"],\n",
    "    \"Port Disruption\": [\"port disruption\", \"shipping delay\", \"dockworker strike\"],\n",
    "    \"Protest/Riot\": [\"protest news\", \"civil unrest\", \"riot demonstration\"],\n",
    "    \"Supply Shortage\": [\"supply shortage\", \"product scarcity\", \"shortfall in supply\"],\n",
    "    \"Earthquake\": [\"Earthquake\"],\n",
    "    \"Extreme Weather\": [\"extreme weather\", \"severe weather conditions\", \"weather catastrophe\"],\n",
    "    \"Flood\": [\"flood news\", \"flooding event\", \"flash flood\"],\n",
    "    \"Hurricane\": [\"hurricane news\", \"tropical storm\", \"hurricane forecast\"],\n",
    "    \"Tornado\": [\"tornado news\", \"twister warning\", \"tornado outbreak\"],\n",
    "    \"Volcano\": [\"volcano eruption\", \"volcanic activity\", \"volcanic eruption\"],\n",
    "    \"Human Health\": [\"public health crisis\", \"healthcare news\", \"health epidemic\"],\n",
    "    \"Power Outage\": [\"power outage\", \"electricity failure\", \"grid blackout\"]\n",
    "}\n",
    "\n",
    "x.keys()"
   ]
  }
 ],
 "metadata": {
  "kernelspec": {
   "display_name": "env",
   "language": "python",
   "name": "python3"
  },
  "language_info": {
   "codemirror_mode": {
    "name": "ipython",
    "version": 3
   },
   "file_extension": ".py",
   "mimetype": "text/x-python",
   "name": "python",
   "nbconvert_exporter": "python",
   "pygments_lexer": "ipython3",
   "version": "3.10.11"
  },
  "orig_nbformat": 4
 },
 "nbformat": 4,
 "nbformat_minor": 2
}
