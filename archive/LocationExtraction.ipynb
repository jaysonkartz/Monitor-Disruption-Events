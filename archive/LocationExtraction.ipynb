{
 "cells": [
  {
   "cell_type": "code",
   "execution_count": 11,
   "metadata": {},
   "outputs": [],
   "source": [
    "import openai\n",
    "import numpy as np\n",
    "import os\n",
    "from dotenv import load_dotenv\n",
    "import os\n",
    "from collections import deque\n",
    "from typing import Dict, List, Optional, Any\n",
    "from geopy.geocoders import Nominatim\n",
    "\n",
    "from pydantic import BaseModel, Field\n",
    "from datetime import datetime\n",
    "from typing import Optional\n",
    "\n",
    "from langchain import LLMChain, OpenAI, PromptTemplate\n",
    "from langchain.embeddings import OpenAIEmbeddings\n",
    "from langchain.llms import BaseLLM\n",
    "from langchain.vectorstores.base import VectorStore\n",
    "from pydantic import BaseModel, Field\n",
    "from langchain.chains.base import Chain\n",
    "# Langchain\n",
    "from langchain.embeddings.openai import OpenAIEmbeddings\n",
    "from langchain.text_splitter import CharacterTextSplitter\n",
    "from langchain.vectorstores import Pinecone\n",
    "from langchain.document_loaders import TextLoader\n",
    "from langchain.chat_models import ChatOpenAI\n",
    "from langchain.chains import RetrievalQA, LLMChain ,LLMCheckerChain\n",
    "from langchain.callbacks import wandb_tracing_enabled\n",
    "from langchain.prompts import (\n",
    "    PromptTemplate,\n",
    "    ChatPromptTemplate,\n",
    "    HumanMessagePromptTemplate,\n",
    "    StringPromptTemplate\n",
    ")\n",
    "from langchain.prompts.few_shot import FewShotPromptTemplate\n",
    "from langchain.output_parsers import StructuredOutputParser, ResponseSchema\n",
    "\n",
    "from typing import Optional\n",
    "from langchain.chains import SimpleSequentialChain ,SequentialChain\n",
    "from langchain.agents import AgentExecutor, Tool, ZeroShotAgent,BaseMultiActionAgent\n",
    "from langchain.agents import AgentType, initialize_agent,AgentExecutor,BaseSingleActionAgent\n",
    "from langchain.tools import tool\n",
    "from langchain.chains.openai_functions import (\n",
    "    create_openai_fn_chain,\n",
    "    create_structured_output_chain,\n",
    ")\n",
    "from langchain.schema import HumanMessage, AIMessage, ChatMessage\n",
    "from langchain.vectorstores import FAISS\n",
    "from langchain.embeddings import OpenAIEmbeddings\n",
    "from langchain.schema import Document\n",
    "from typing import Any, Callable, Dict, List, Optional, Sequence, Tuple, Union\n",
    "\n",
    "from utils.Webscraper import Webscraper\n",
    "webscraper = Webscraper()"
   ]
  },
  {
   "cell_type": "code",
   "execution_count": 12,
   "metadata": {},
   "outputs": [],
   "source": [
    "# Load variables from the .env file\n",
    "load_dotenv('./.env')\n",
    "\n",
    "# Access the variables\n",
    "OPENAI_API_KEY = os.getenv(\"OPENAI_API_KEY\")\n",
    "PINECONE_API_KEY = os.getenv(\"PINECONE_API_KEY\")\n",
    "INDEX_NAME = os.getenv(\"PINECONE_INDEX_NAME\")\n",
    "LANGCHAIN_PROJECT = os.getenv(\"LANGCHAIN_PROJECT\")\n",
    "LANGCHAIN_API_KEY = os.getenv(\"LANGCHAIN_API_KEY\")\n",
    "LANGCHAIN_TRACING_V2=os.getenv(\"LANGCHAIN_TRACING_V2\")\n",
    "LANGCHAIN_ENDPOINT=os.getenv(\"LANGCHAIN_ENDPOINT\")\n",
    "\n",
    "# Set the environment variables\n",
    "os.environ[\"OPENAI_API_KEY\"] = OPENAI_API_KEY\n",
    "os.environ[\"LANGCHAIN_TRACING_V2\"] = LANGCHAIN_TRACING_V2\n",
    "os.environ[\"LANGCHAIN_ENDPOINT\"] = LANGCHAIN_ENDPOINT\n",
    "os.environ[\"LANGCHAIN_API_KEY\"] = LANGCHAIN_API_KEY\n",
    "os.environ[\"LANGCHAIN_PROJECT\"] = LANGCHAIN_PROJECT"
   ]
  },
  {
   "cell_type": "code",
   "execution_count": 15,
   "metadata": {},
   "outputs": [
    {
     "name": "stdout",
     "output_type": "stream",
     "text": [
      "{'price': 333.54998779296875, 'currency': 'USD'}\n",
      "{'percent_change': 1.2560090196670617}\n"
     ]
    }
   ],
   "source": [
    "import yfinance as yf\n",
    "from datetime import datetime, timedelta\n",
    "\n",
    "def get_current_stock_price(ticker):\n",
    "    \"\"\"Method to get current stock price\"\"\"\n",
    "\n",
    "    ticker_data = yf.Ticker(ticker)\n",
    "    recent = ticker_data.history(period=\"1d\")\n",
    "    return {\"price\": recent.iloc[0][\"Close\"], \"currency\": ticker_data.info[\"currency\"]}\n",
    "\n",
    "def get_stock_performance(ticker:str, days: int) -> Dict[str, float]:\n",
    "    \"\"\"Method to get stock price change in percentage\"\"\"\n",
    "\n",
    "    past_date = datetime.today() - timedelta(days=days)\n",
    "    ticker_data = yf.Ticker(ticker)\n",
    "    history = ticker_data.history(start=past_date)\n",
    "    old_price = history.iloc[0][\"Close\"]\n",
    "    current_price = history.iloc[-1][\"Close\"]\n",
    "    return {\"percent_change\": ((current_price - old_price) / old_price) * 100}\n",
    "\n",
    "print(get_current_stock_price(\"MSFT\"))\n",
    "print(get_stock_performance(\"MSFT\", 30))"
   ]
  },
  {
   "cell_type": "code",
   "execution_count": 6,
   "metadata": {},
   "outputs": [],
   "source": [
    "from typing import Type\n",
    "from pydantic import BaseModel, Field\n",
    "from langchain.tools import BaseTool\n",
    "\n",
    "\n",
    "class CurrentStockPriceInput(BaseModel):\n",
    "    \"\"\"Inputs for get_current_stock_price\"\"\"\n",
    "\n",
    "    ticker: str = Field(description=\"Ticker symbol of the stock\")\n",
    "\n",
    "\n",
    "class CurrentStockPriceTool(BaseTool):\n",
    "    name = \"get_current_stock_price\"\n",
    "    description = \"\"\"\n",
    "        Useful when you want to get current stock price.\n",
    "        You should enter the stock ticker symbol recognized by the yahoo finance\n",
    "        \"\"\"\n",
    "    args_schema: Type[BaseModel] = CurrentStockPriceInput\n",
    "\n",
    "    def _run(self, ticker: str):\n",
    "        price_response = get_current_stock_price(ticker)\n",
    "        return price_response\n",
    "\n",
    "    def _arun(self, ticker: str):\n",
    "        raise NotImplementedError(\"get_current_stock_price does not support async\")\n",
    "\n",
    "\n",
    "class StockPercentChangeInput(BaseModel):\n",
    "    \"\"\"Inputs for get_stock_performance\"\"\"\n",
    "\n",
    "    ticker: str = Field(description=\"Ticker symbol of the stock\")\n",
    "    days: int = Field(description=\"Timedelta days to get past date from current date\")\n",
    "\n",
    "\n",
    "class StockPerformanceTool(BaseTool):\n",
    "    name = \"get_stock_performance\"\n",
    "    description = \"\"\"\n",
    "        Useful when you want to check performance of the stock.\n",
    "        You should enter the stock ticker symbol recognized by the yahoo finance.\n",
    "        You should enter days as number of days from today from which performance needs to be check.\n",
    "        output will be the change in the stock price represented as a percentage.\n",
    "        \"\"\"\n",
    "    args_schema: Type[BaseModel] = StockPercentChangeInput\n",
    "\n",
    "    def _run(self, ticker: str, days: int):\n",
    "        response = get_stock_performance(ticker, days)\n",
    "        return response\n",
    "\n",
    "    def _arun(self, ticker: str):\n",
    "        raise NotImplementedError(\"get_stock_performance does not support async\")"
   ]
  },
  {
   "cell_type": "code",
   "execution_count": 7,
   "metadata": {},
   "outputs": [],
   "source": [
    "from langchain.agents import AgentType\n",
    "from langchain.chat_models import ChatOpenAI\n",
    "from langchain.agents import initialize_agent\n",
    "\n",
    "llm = ChatOpenAI(model=\"gpt-3.5-turbo-0613\", temperature=0)\n",
    "\n",
    "tools = [CurrentStockPriceTool(), StockPerformanceTool()]\n",
    "\n",
    "agent = initialize_agent(tools, llm, agent=AgentType.OPENAI_FUNCTIONS, verbose=True)"
   ]
  },
  {
   "cell_type": "code",
   "execution_count": 8,
   "metadata": {},
   "outputs": [
    {
     "name": "stdout",
     "output_type": "stream",
     "text": [
      "\n",
      "\n",
      "\u001b[1m> Entering new AgentExecutor chain...\u001b[0m\n",
      "inputs def call: {'input': 'What is the current price of Microsoft stock? How it has performed over past 6 months?'}\n",
      "def _take_next_step inputs: {'input': 'What is the current price of Microsoft stock? How it has performed over past 6 months?'}\n",
      "\u001b[32;1m\u001b[1;3m\n",
      "Invoking: `get_current_stock_price` with `{'ticker': 'MSFT'}`\n",
      "\n",
      "\n",
      "\u001b[0m\u001b[36;1m\u001b[1;3m{'price': 333.54998779296875, 'currency': 'USD'}\u001b[0mdef _take_next_step inputs: {'input': 'What is the current price of Microsoft stock? How it has performed over past 6 months?'}\n",
      "\u001b[32;1m\u001b[1;3m\n",
      "Invoking: `get_stock_performance` with `{'ticker': 'MSFT', 'days': 180}`\n",
      "\n",
      "\n",
      "\u001b[0m\u001b[33;1m\u001b[1;3m{'percent_change': 34.754778040690155}\u001b[0mdef _take_next_step inputs: {'input': 'What is the current price of Microsoft stock? How it has performed over past 6 months?'}\n",
      "_return: AgentFinish(return_values={'output': 'The current price of Microsoft stock is $333.55 USD. \\n\\nOver the past 6 months, Microsoft stock has performed well with a 34.75% increase in its price.'}, log='The current price of Microsoft stock is $333.55 USD. \\n\\nOver the past 6 months, Microsoft stock has performed well with a 34.75% increase in its price.')\n",
      "\u001b[32;1m\u001b[1;3mThe current price of Microsoft stock is $333.55 USD. \n",
      "\n",
      "Over the past 6 months, Microsoft stock has performed well with a 34.75% increase in its price.\u001b[0m\n",
      "\n",
      "\u001b[1m> Finished chain.\u001b[0m\n"
     ]
    },
    {
     "data": {
      "text/plain": [
       "'The current price of Microsoft stock is $333.55 USD. \\n\\nOver the past 6 months, Microsoft stock has performed well with a 34.75% increase in its price.'"
      ]
     },
     "execution_count": 8,
     "metadata": {},
     "output_type": "execute_result"
    }
   ],
   "source": [
    "agent.run(\"What is the current price of Microsoft stock? How it has performed over past 6 months?\")"
   ]
  },
  {
   "cell_type": "code",
   "execution_count": 5,
   "metadata": {},
   "outputs": [
    {
     "data": {
      "text/plain": [
       "{'lc': 1,\n",
       " 'type': 'constructor',\n",
       " 'id': ['langchain', 'chat_models', 'openai', 'ChatOpenAI'],\n",
       " 'kwargs': {'model_name': 'gpt-3.5-turbo-0613',\n",
       "  'temperature': 0.0,\n",
       "  'openai_api_key': {'lc': 1, 'type': 'secret', 'id': ['OPENAI_API_KEY']}}}"
      ]
     },
     "execution_count": 5,
     "metadata": {},
     "output_type": "execute_result"
    }
   ],
   "source": [
    "model_name = \"gpt-3.5-turbo-0613\"\n",
    "temperature = 0.0\n",
    "llm = ChatOpenAI(model_name=model_name, temperature=temperature)\n",
    "llm.to_json()"
   ]
  },
  {
   "cell_type": "markdown",
   "metadata": {},
   "source": [
    "## Test Geopands"
   ]
  },
  {
   "cell_type": "markdown",
   "metadata": {},
   "source": [
    "# Set up agent for location extraction"
   ]
  },
  {
   "cell_type": "code",
   "execution_count": 6,
   "metadata": {},
   "outputs": [
    {
     "data": {
      "text/plain": [
       "(-8.3304977, 115.0906401)"
      ]
     },
     "execution_count": 6,
     "metadata": {},
     "output_type": "execute_result"
    }
   ],
   "source": [
    "def get_coordinates(location:str) -> tuple[float, float]:\n",
    "    \"\"\"Returns the latitude and longitude of a location.\"\"\"\n",
    "    geolocator = Nominatim(user_agent=\"geoapi_explorer\")\n",
    "    try:\n",
    "        location_info = geolocator.geocode(location)\n",
    "    except:\n",
    "        return \"Location Input must be more general, E.g Country,City,state,street\"\n",
    "    \n",
    "    if location_info:\n",
    "        latitude = location_info.latitude\n",
    "        longitude = location_info.longitude\n",
    "        return (latitude, longitude)\n",
    "    else:\n",
    "        return \"Location Input must be more general, E.g Country,City,state,street\"\n",
    "    \n",
    "# use the function\n",
    "coordinates = get_coordinates(\"Bali, Indonesia\")\n",
    "coordinates"
   ]
  },
  {
   "cell_type": "code",
   "execution_count": 7,
   "metadata": {},
   "outputs": [],
   "source": [
    "# Set up the base template\n",
    "template = \"\"\"Role: You're a geographical expert aimed to identity locations about disruption event from News article. You have access to the following tools:\n",
    "\n",
    "{tools}\n",
    "\n",
    "Use the following format:\n",
    "\n",
    "Question: the input question you must answer\n",
    "Thought: you should always think about what to do\n",
    "Action: the action to take, should be one of [{tool_names}]\n",
    "Action Input: the input to the action\n",
    "Observation: the result of the action\n",
    "... (this Thought/Action/Action Input/Observation can repeat N times)\n",
    "Thought: I now know the final answer\n",
    "Final Answer: coordinates of the location in the format (latitude, longitude)\n",
    "\n",
    "Article: {input}\n",
    "\n",
    "Question: List your thoughts and extract location where this disruption event occured, using this get 4 coordinates points ( Latitude logitude ) of area where u think this event occured\n",
    "{agent_scratchpad}\"\"\""
   ]
  },
  {
   "cell_type": "code",
   "execution_count": 8,
   "metadata": {},
   "outputs": [],
   "source": [
    "@tool(\"get_coordinates\" ,return_direct=True)\n",
    "def get_coordinates(location:str) -> tuple[float, float]:\n",
    "    \"\"\"Returns the latitude and longitude of a location.\"\"\"\n",
    "    geolocator = Nominatim(user_agent=\"geoapi_explorer\")\n",
    "    try:\n",
    "        location_info = geolocator.geocode(location)\n",
    "    except:\n",
    "        return \"Location Input must be more general, E.g Country,City,state,street\"\n",
    "    \n",
    "    if location_info:\n",
    "        latitude = location_info.latitude\n",
    "        longitude = location_info.longitude\n",
    "        return (latitude, longitude)\n",
    "    else:\n",
    "        return \"Location Input must be more general, E.g Country,City,state,street\"\n",
    "    \n",
    "\n",
    "tools = [\n",
    "    get_coordinates,\n",
    "]\n",
    "tool_names = [tool.name for tool in tools]\n",
    "\n",
    "TASK_LIST = [\"Determin Location of Disruption Event of that disaster type\",\"Get coordinates of Location\"]"
   ]
  },
  {
   "cell_type": "code",
   "execution_count": 9,
   "metadata": {},
   "outputs": [],
   "source": [
    "test_article = '''A map of the magnitude 7.1 earthquake that struck the Bali Sea region of Indonesia on Aug 29, 2023. (Photo: United States Geological Survey)\n",
    "\n",
    "29 Aug 2023 05:00AM\n",
    "(Updated: 29 Aug 2023 08:26AM)\n",
    "A strong earthquake of 7.0 magnitude struck deep in the sea north of Bali and Lombok islands in Indonesia early on Tuesday (Aug 29), the European-Mediterranean Seismological Centre (EMSC) said, sending residents running out of buildings.\n",
    "\n",
    "The quake's epicentre was 203km north of Mataram, Indonesia, and very deep at 516 km below the Earth's surface, EMSC said.\n",
    "\n",
    "Indonesian and US geological agencies pegged the magnitude at 7.1, with no threat of a tsunami.\n",
    "\n",
    "The quake was felt just before 4am across coastal areas in Bali and Lombok and was followed by two quakes of magnitude 6.1 and 6.5, according to the Indonesian geological agency.\n",
    "\n",
    "Many residents and tourists rushed out of their homes and hotels toward higher ground after reporting powerful shockwaves, but the situation returned to normal after they received text messages saying the quake had no potential to trigger a tsunami.\n",
    "\n",
    "“I thought the walls were going to come down on the hotel,” an Australian tourist said on social media.\n",
    "\n",
    "Guests at Bali's Mercure Kuta Bali ran out of their rooms after feeling the tremor for a few seconds, hotel manager Suadi told Reuters by phone.\n",
    "\n",
    "\"Several guests left their rooms but were still in the hotel area,\" he said, adding they have since returned and there was no damage to the building.\n",
    "\n",
    "People in neighbouring provinces of East Java, Central Java, West Nusa Tenggara and East Nusa Tenggara provinces also felt the tremors and panicked as houses and buildings swayed for several seconds.\n",
    "\n",
    "There were no immediate reports of damage, Indonesian disaster agency BNPB said.\n",
    "\n",
    "\"The quake is deep so it should not be destructive,\" BNPB spokesperson Abdul Muhari said.'''"
   ]
  },
  {
   "cell_type": "code",
   "execution_count": 10,
   "metadata": {},
   "outputs": [
    {
     "data": {
      "text/plain": [
       "'Japan hopes to win the world’s trust over Fukushima with hard science, objective factsFUKUSHIMA – Japan wants to win the world’s trust that it is doing the right thing – neither wilfully poisoning the Pacific Ocean nor trying to pull the wool over people’s eyes regarding the safety of its seafood with its treated nuclear wastewater release.  On Sunday, The Straits Times was among the first media outlets – domestic and foreign – to visit the crippled Fukushima Daiichi nuclear plant since the discharge began three days earlier, in a process that will end with its full decommissioning only in 2051.  As at 5pm on Sunday (4pm Singapore time), 76 hours after the gates were opened, operator Tokyo Electric Power Co (Tepco) had released 1,420 tonnes of water that had been treated to remove radioactive materials except tritium.  Also on Sunday, Japan said tests of seawater off the coast did not detect any radioactivity. A day earlier, inspections of fish samples from waters near the plant also found no detectable traces of tritium, a hydrogen isotope that most scientists say is harmless and naturally discharged without accumulating in the body.  Tepco has even successfully used the water, cleansed by a process known as the Advanced Liquid Processing System (ALPS), to breed healthy flounder, abalone and seaweed.  Yet, the blowback has been swift since the discharge began. China imposed a blanket ban on all Japanese seafood, while Hong Kong and Macau stiffened restrictions in what Japanese newspaper editorials have lambasted as “economic coercion”.  These regions are a minority, among only nine to have retained import restrictions since the March 11, 2011 disaster. But they hit Japan where it hurts: China accounted for 22.5 per cent and Hong Kong, 19.5 per cent, of seafood imports in 2022, the annual Fisheries White Paper said.  And even where their governments have not imposed bans, leery consumers in the region, including in Singapore, have also vowed to steer clear of seafood from Japan, at least for now.  To counter these narratives, United States Ambassador to Japan Rahm Emanuel, who is due to visit Fukushima this week, said he would “eat local fish” – just as the late prime minister Shinzo Abe made Fukushima rice a daily staple to prove a point.  Amid the brouhaha, water was being discharged as planned at Tepco’s Fukushima Daiichi plant – a drab coastal compound of six nuclear reactors – on Sunday, with the audible sounds of seawater gushing in through large pipes to be used for dilution. Much has changed since this reporter’s last visit in 2018, with more than 1,000 giant water tanks now dotting the site.  In total, 1.34 million tonnes of wastewater has accumulated, and the pressing lack of space has been a major obstacle to dismantling the plant. Just 380 of the 1,000 cherry blossoms trees that turn the facility pink in spring remain, the rest axed over contamination and the need to make space for tanks.  In the clearest sign that decontamination was progressing, protective gowns were no longer necessary over clothing, though masks and gloves were mandatory. The radiation dose during the six-hour media visit, as per the reading on my dosimeter, was less than that one would have received during a dental X-ray, according to Japan’s National Institutes for Quantum and Radiological Science and Technology.  Yet Japan and Tepco, despite sound scientific evidence in their favour as endorsed by the neutral International Atomic Energy Agency, are struggling to shape the narrative, dampen the water-cooler talk and stamp out fake news.'"
      ]
     },
     "execution_count": 10,
     "metadata": {},
     "output_type": "execute_result"
    }
   ],
   "source": [
    "article2 = webscraper.scrapeSingleUrl(\"https://www.straitstimes.com/asia/east-asia/japan-hopes-to-win-the-world-s-trust-over-fukushima-with-hard-science-objective-facts\")\n",
    "article_text_title = article2.title+article2.text\n",
    "\n",
    "article_text_title"
   ]
  },
  {
   "cell_type": "markdown",
   "metadata": {},
   "source": [
    "# Making my own class fuck everything already"
   ]
  },
  {
   "cell_type": "code",
   "execution_count": 11,
   "metadata": {},
   "outputs": [],
   "source": [
    "from langchain.output_parsers import StructuredOutputParser, ResponseSchema\n",
    "\n",
    "# response_schemas = [\n",
    "#     ResponseSchema(name=\"answer\", description=\"answer to the user's question\"),\n",
    "#     ResponseSchema(name=\"source\", description=\"source used to answer the user's question, should be a website.\")\n",
    "# ]\n",
    "# output_parser = StructuredOutputParser.from_response_schemas(response_schemas)\n",
    "location_extractor_schema = {\n",
    "    \"name\": \"location_extractor\",\n",
    "    \"description\": \"Extracts location(s) from disruption event\",\n",
    "    \"type\": \"object\",\n",
    "    \"properties\": {\n",
    "          \"location\": {\n",
    "            \"type\": \"string\",\n",
    "            \"description\": \"location of disruption event, only should include the main location(s) where the disruption event occured\"\n",
    "          }\n",
    "        },\n",
    "        \"required\": [\"location\"]\n",
    "      }\n",
    "    \n",
    "\n",
    "\n",
    "locaiton_prompt = PromptTemplate(\n",
    "    template=\"\"\"Role: You're a geographical expert aimed to identity the location(s) about a singular disruption event from News article.\\n\\nNews Article:{article}\\n\\nTask:Determin Location of Disruption Event. Location should include any addresses, cities, countries, and landmarks, output an address searchable in googleMaps.Feedback:{feedback}\"\"\",\n",
    "    input_variables=[\"article\",\"feedback\"],\n",
    ")\n",
    "location_extractor_chain = create_structured_output_chain(output_schema=location_extractor_schema,llm = llm,prompt=locaiton_prompt)"
   ]
  },
  {
   "cell_type": "code",
   "execution_count": 149,
   "metadata": {},
   "outputs": [
    {
     "data": {
      "text/plain": [
       "{'location': 'Fukushima Daiichi nuclear plant'}"
      ]
     },
     "execution_count": 149,
     "metadata": {},
     "output_type": "execute_result"
    }
   ],
   "source": [
    "output = location_extractor_chain.run(article=article_text_title,feedback=\"\")\n",
    "output"
   ]
  },
  {
   "cell_type": "code",
   "execution_count": 114,
   "metadata": {},
   "outputs": [],
   "source": [
    "location_ouput_schema = {\n",
    "    \"name\": \"Format_coordinate_Extraction\",\n",
    "    \"description\": \"Formats information about disruption event coordinates to return proper output\",\n",
    "    \"type\": \"object\",\n",
    "  \"properties\": {\n",
    "    \"list_of_locations\": {\n",
    "      \"type\": \"array\",\n",
    "      \"items\": {\n",
    "        \"type\": \"object\",\n",
    "        \"properties\": {\n",
    "          \"location\": {\n",
    "            \"type\": \"string\"\n",
    "          },\n",
    "          \"latitude\": {\n",
    "            \"type\": \"number\"\n",
    "          },\n",
    "          \"longitude\": {\n",
    "            \"type\": \"number\"\n",
    "          }\n",
    "        },\n",
    "        \"required\": [\"location\"]\n",
    "      }\n",
    "    }\n",
    "  },\n",
    "  \"required\": [\"list_of_locations\"]\n",
    "}\n",
    "\n",
    "location_output_prompt = PromptTemplate(\n",
    "    template=\"\"\"Task: Format the output of the agent to the following schema:\\n\\nAgent Output: {agent_output}\"\"\",\n",
    "    input_variables=[\"agent_output\"]\n",
    ")\n",
    "# This should be the last step in the chain\n",
    "final_output_chain = create_structured_output_chain(output_schema=location_ouput_schema,llm = llm,prompt=location_output_prompt)\n"
   ]
  },
  {
   "cell_type": "code",
   "execution_count": 63,
   "metadata": {},
   "outputs": [],
   "source": [
    "output = final_output_chain.run(agent_output=\"The coordinates of the locations mentioned in the article are: Fukushima Daiichi nuclear plant: (37.423013499999996, 141.0329324479071), China: (35.000074, 104.999927), Hong Kong: (22.350627, 114.1849161)\")\n",
    "output"
   ]
  },
  {
   "cell_type": "code",
   "execution_count": 12,
   "metadata": {},
   "outputs": [
    {
     "name": "stdout",
     "output_type": "stream",
     "text": [
      "\n",
      "\n",
      "\u001b[1m> Entering new AgentExecutor chain...\u001b[0m\n",
      "\u001b[32;1m\u001b[1;3m\u001b[0m\u001b[36;1m\u001b[1;3m(37.423013499999996, 141.0329324479071)\u001b[0m\n",
      "\u001b[32;1m\u001b[1;3m\u001b[0m\n",
      "\n",
      "\u001b[1m> Finished chain.\u001b[0m\n"
     ]
    }
   ],
   "source": [
    "from typing import List, Tuple, Any, Union\n",
    "from langchain.schema import AgentAction, AgentFinish\n",
    "\n",
    "\n",
    "class LocationAgent(BaseSingleActionAgent):\n",
    "    \"\"\"Fake Custom Agent.\"\"\"\n",
    "\n",
    "    @property\n",
    "    def input_keys(self):\n",
    "        return [\"input\"]\n",
    "\n",
    "    def plan(\n",
    "        self, intermediate_steps: List[Tuple[AgentAction, str]], **kwargs: Any\n",
    "    ) -> Union[AgentAction, AgentFinish]:\n",
    "        \"\"\"Given input, decided what to do.\n",
    "\n",
    "        Args:\n",
    "            intermediate_steps: Steps the LLM has taken to date,\n",
    "                along with observations\n",
    "            **kwargs: User inputs.\n",
    "\n",
    "        Returns:\n",
    "            Action specifying what tool to use.\n",
    "        \"\"\"\n",
    "        return AgentAction(tool=\"get_coordinates\", tool_input=kwargs[\"input\"], log=\"\")\n",
    "\n",
    "    async def aplan(\n",
    "        self, intermediate_steps: List[Tuple[AgentAction, str]], **kwargs: Any\n",
    "    ) -> Union[AgentAction, AgentFinish]:\n",
    "        \"\"\"Given input, decided what to do.\n",
    "\n",
    "        Args:\n",
    "            intermediate_steps: Steps the LLM has taken to date,\n",
    "                along with observations\n",
    "            **kwargs: User inputs.\n",
    "\n",
    "        Returns:\n",
    "            Action specifying what tool to use.\n",
    "        \"\"\"\n",
    "        return AgentAction(tool=\"get_coordinates\", tool_input=kwargs[\"input\"], log=\"\")\n",
    "    \n",
    "agent = LocationAgent()\n",
    "agent_executor = AgentExecutor.from_agent_and_tools(\n",
    "    agent=agent, tools=tools, verbose=True\n",
    ")\n",
    "output = agent_executor.run(input=\"Fukushima Daiichi nuclear plant\")"
   ]
  },
  {
   "cell_type": "code",
   "execution_count": 171,
   "metadata": {},
   "outputs": [
    {
     "data": {
      "text/plain": [
       "AgentExecutor(memory=None, callbacks=None, callback_manager=None, verbose=True, tags=None, metadata=None, agent=LocationAgent(), tools=[StructuredTool(name='get_coordinates', description='get_coordinates(location: str) -> tuple[float, float] - Returns the latitude and longitude of a location.', args_schema=<class 'pydantic.v1.main.get_coordinatesSchemaSchema'>, return_direct=True, verbose=False, callbacks=None, callback_manager=None, tags=None, metadata=None, handle_tool_error=False, func=<function get_coordinates at 0x0000025010C4ED40>, coroutine=None)], return_intermediate_steps=False, max_iterations=15, max_execution_time=None, early_stopping_method='force', handle_parsing_errors=False, trim_intermediate_steps=-1)"
      ]
     },
     "execution_count": 171,
     "metadata": {},
     "output_type": "execute_result"
    }
   ],
   "source": [
    "agent_executor"
   ]
  },
  {
   "cell_type": "code",
   "execution_count": 169,
   "metadata": {},
   "outputs": [],
   "source": [
    "# import logging library\n",
    "import logging\n",
    "class LocationCoordinatesExtractor:\n",
    "    \"\"\"\n",
    "    The `LocationCoordinatesExtractor` class is responsible for extracting location coordinates from an article.\n",
    "    It uses a chain of location extractors and an agent executor to perform this task.\n",
    "    The class allows for a maximum number of tries to get the correct output before raising an exception.\n",
    "\n",
    "    Example usage:\n",
    "    \"\"\"\n",
    "    def __init__(self, location_extractor_chain: Chain, agent_executor: AgentExecutor, max_tries: int = 5):\n",
    "        self.location_extractor_chain: Chain = location_extractor_chain\n",
    "        self.agent_executor: AgentExecutor = agent_executor\n",
    "        self.max_tries: int = 2\n",
    "\n",
    "    \n",
    "    def run(self, article: str) -> Tuple[float, float]:\n",
    "        \"\"\"\n",
    "        Main method to extract location coordinates from the article.\n",
    "        It runs the location extractor chain and the agent executor in a loop, with a maximum number of tries.\n",
    "        If the coordinates output is a tuple, it is returned as the result.\n",
    "        Otherwise, an exception is raised.\n",
    "        \"\"\"\n",
    "\n",
    "        count = 0\n",
    "        feedback = \"\"\n",
    "        while count < self.max_tries:\n",
    "            try:\n",
    "                location = self.location_extractor_chain.run(article=article, feedback=feedback)\n",
    "                print('location: ', location)\n",
    "                # log output\n",
    "                coordinates_output = self.agent_executor.run(input=location[\"location\"])\n",
    "                print('coordinates_output: ', coordinates_output)\n",
    "\n",
    "            except Exception as e:\n",
    "                print('error: ', e)\n",
    "                feedback = str(e)\n",
    "                count += 1\n",
    "            else:\n",
    "                if isinstance(coordinates_output, tuple):\n",
    "                    return coordinates_output\n",
    "\n",
    "        raise Exception(\"Unable to extract location coordinates from the article\")\n",
    "        # Extract location from article    "
   ]
  },
  {
   "cell_type": "code",
   "execution_count": 173,
   "metadata": {},
   "outputs": [
    {
     "name": "stdout",
     "output_type": "stream",
     "text": [
      "location:  {'location': 'Unknown'}\n",
      "\n",
      "\n",
      "\u001b[1m> Entering new AgentExecutor chain...\u001b[0m\n",
      "\u001b[32;1m\u001b[1;3m\u001b[0m\u001b[36;1m\u001b[1;3m(24.9591486, 95.8030352)\u001b[0m\n",
      "\u001b[32;1m\u001b[1;3m\u001b[0m\n",
      "\n",
      "\u001b[1m> Finished chain.\u001b[0m\n",
      "coordinates_output:  (24.9591486, 95.8030352)\n"
     ]
    },
    {
     "data": {
      "text/plain": [
       "(24.9591486, 95.8030352)"
      ]
     },
     "execution_count": 173,
     "metadata": {},
     "output_type": "execute_result"
    }
   ],
   "source": [
    "locationCoordinatesExtractor = LocationCoordinatesExtractor(location_extractor_chain,agent_executor)\n",
    "locationCoordinatesExtractor.run(article=\"NIL\")"
   ]
  },
  {
   "cell_type": "markdown",
   "metadata": {},
   "source": [
    "# Custom Agent and modifying"
   ]
  },
  {
   "cell_type": "code",
   "execution_count": 17,
   "metadata": {},
   "outputs": [],
   "source": [
    "from langchain.agents import Tool, AgentExecutor, LLMSingleActionAgent, AgentOutputParser,Agent\n",
    "from langchain.prompts import StringPromptTemplate\n",
    "from langchain import OpenAI, SerpAPIWrapper, LLMChain\n",
    "from typing import List, Union\n",
    "from langchain.schema import AgentAction, AgentFinish, OutputParserException\n",
    "import re\n",
    "from langchain.agents import Tool, AgentExecutor, BaseSingleActionAgent\n",
    "from langchain import OpenAI, SerpAPIWrapper\n",
    "\n",
    "from langchain.callbacks.manager import (\n",
    "    AsyncCallbackManagerForChainRun,\n",
    "    AsyncCallbackManagerForToolRun,\n",
    "    CallbackManagerForChainRun,\n",
    "    CallbackManagerForToolRun,\n",
    "    Callbacks,\n",
    ")"
   ]
  },
  {
   "cell_type": "code",
   "execution_count": 20,
   "metadata": {},
   "outputs": [],
   "source": [
    "template = \"\"\"Role: You're a geographical expert aimed to identity the location(s) about a singular disruption event from News article. You have access to the following tools:\n",
    "\n",
    "{tools}\n",
    "\n",
    "Use the following format:\n",
    "\n",
    "Question: the input question you must answer\n",
    "Thought: you should always think about what to do\n",
    "Action: the action to take, should be one of [{tool_names}]\n",
    "Action Input: the input to the action\n",
    "Observation: the result of the action\n",
    "... (this Thought/Action/Action Input/Observation can repeat N times)\n",
    "Thought: I now know the final answer\n",
    "Final Answer: coordinates of the location in the format (latitude, longitude)\n",
    "\n",
    "Article: {input}\n",
    "\n",
    "Task: {task}\n",
    "{agent_scratchpad}\"\"\"\n",
    "\n",
    "TASK_LIST = [\"Determin Location of Disruption Event. Location should include any addresses, cities, countries, and landmarks, output an address searchable in googleMaps.\",\"Get coordinates of Location\"]\n",
    "\n",
    "# Set up a prompt template\n",
    "class CustomPromptTemplate(StringPromptTemplate):\n",
    "    # The template to use\n",
    "    template: str\n",
    "    # The list of tools available\n",
    "    tools: List[Tool]\n",
    "\n",
    "    def format(self, **kwargs) -> str:\n",
    "        # Get the intermediate steps (AgentAction, Observation tuples)\n",
    "        # Format them in a particular way\n",
    "        intermediate_steps = kwargs.pop(\"intermediate_steps\")\n",
    "        thoughts = \"\"\n",
    "        for action, observation in intermediate_steps:\n",
    "            thoughts += action.log\n",
    "            thoughts += f\"\\nObservation: {observation}\\nThought: \"\n",
    "        # Set the agent_scratchpad variable to that value\n",
    "        kwargs[\"agent_scratchpad\"] = thoughts\n",
    "        # Create a tools variable from the list of tools provided\n",
    "        kwargs[\"tools\"] = \"\\n\".join([f\"{tool.name}: {tool.description}\" for tool in self.tools])\n",
    "        # Create a list of tool names for the tools provided\n",
    "        kwargs[\"tool_names\"] = \", \".join([tool.name for tool in self.tools])\n",
    "        return self.template.format(**kwargs)\n",
    "\n",
    "\n",
    "prompt = CustomPromptTemplate(\n",
    "    template=template,\n",
    "    tools=tools,\n",
    "    task = TASK_LIST[0],\n",
    "    # This omits the `agent_scratchpad`, `tools`, and `tool_names` variables because those are generated dynamically\n",
    "    # This includes the `intermediate_steps` variable because that is needed\n",
    "    input_variables=[\"input\", \"intermediate_steps\",\"task\"]\n",
    ")\n",
    "\n",
    "class CustomOutputParser(AgentOutputParser):\n",
    "\n",
    "    def parse(self, llm_output: str) -> Union[AgentAction, AgentFinish]:\n",
    "\n",
    "        # Check if agent should finish\n",
    "        if \"Final Answer:\" in llm_output:\n",
    "            return final_output_chain.run(agent_output = llm_output.split(\"Final Answer:\")[-1].strip())\n",
    "            # return AgentFinish(\n",
    "            #     # Return values is generally always a dictionary with a single `output` key\n",
    "            #     # It is not recommended to try anything else at the moment :)\n",
    "            #     return_values={\"output\": llm_output.split(\"Final Answer:\")[-1].strip()},\n",
    "            #     log=llm_output,\n",
    "            # )\n",
    "\n",
    "        # Parse out the action and action input\n",
    "        regex = r\"Action\\s*\\d*\\s*:(.*?)\\nAction\\s*\\d*\\s*Input\\s*\\d*\\s*:[\\s]*(.*)\"\n",
    "        match = re.search(regex, llm_output, re.DOTALL)\n",
    "        if not match:\n",
    "            raise OutputParserException(f\"Could not parse LLM output: `{llm_output}`\")\n",
    "        \n",
    "        action = match.group(1).strip()\n",
    "        action_input = match.group(2)\n",
    "        # Return the action and action input\n",
    "        return AgentAction(tool=action, tool_input=action_input.strip(\" \").strip('\"'), log=llm_output)\n",
    "\n",
    "\n",
    "\n",
    "output_parser = CustomOutputParser()\n",
    "# LLM chain consisting of the LLM and a prompt\n",
    "llm_chain = LLMChain(llm=llm, prompt=prompt)\n",
    "tool_names = [tool.name for tool in tools]\n",
    "\n",
    "class LLMTaskActionAgent(BaseSingleActionAgent):\n",
    "    \"\"\"Base class for single action agents.\"\"\"\n",
    "    \n",
    "    task_list: List[str]\n",
    "    \"\"\"List of tasks the agent has to perform in sequential order.\"\"\"\n",
    "\n",
    "    llm_chain: LLMChain\n",
    "    \"\"\"LLMChain to use for agent.\"\"\"\n",
    "    output_parser: AgentOutputParser\n",
    "    \"\"\"Output parser to use for agent.\"\"\"\n",
    "    stop: List[str]\n",
    "    \"\"\"List of strings to stop on.\"\"\"\n",
    "\n",
    "    @property\n",
    "    def input_keys(self) -> List[str]:\n",
    "        \"\"\"Return the input keys.\n",
    "\n",
    "        Returns:\n",
    "            List of input keys.\n",
    "        \"\"\"\n",
    "        return list(set(self.llm_chain.input_keys) - {\"intermediate_steps\"})\n",
    "\n",
    "    def dict(self, **kwargs: Any) -> Dict:\n",
    "        \"\"\"Return dictionary representation of agent.\"\"\"\n",
    "        _dict = super().dict()\n",
    "        del _dict[\"output_parser\"]\n",
    "        return _dict\n",
    "\n",
    "    def plan(\n",
    "        self,\n",
    "        intermediate_steps: List[Tuple[AgentAction, str]],\n",
    "        callbacks: Callbacks = None,\n",
    "        **kwargs: Any,\n",
    "    ) -> Union[AgentAction, AgentFinish]:\n",
    "        \"\"\"Given input, decided what to do.\n",
    "\n",
    "        Args:\n",
    "            intermediate_steps: Steps the LLM has taken to date,\n",
    "                along with the observations.\n",
    "            callbacks: Callbacks to run.\n",
    "            **kwargs: User inputs.\n",
    "\n",
    "        Returns:\n",
    "            Action specifying what tool to use.\n",
    "        \"\"\"\n",
    "        output = self.llm_chain.run(\n",
    "            intermediate_steps=intermediate_steps,\n",
    "            stop=self.stop,\n",
    "            callbacks=callbacks,\n",
    "            **kwargs,\n",
    "        )\n",
    "        return self.output_parser.parse(output)\n",
    "\n",
    "    async def aplan(\n",
    "        self,\n",
    "        intermediate_steps: List[Tuple[AgentAction, str]],\n",
    "        callbacks: Callbacks = None,\n",
    "        **kwargs: Any,\n",
    "    ) -> Union[AgentAction, AgentFinish]:\n",
    "        \"\"\"Given input, decided what to do.\n",
    "\n",
    "        Args:\n",
    "            intermediate_steps: Steps the LLM has taken to date,\n",
    "                along with observations\n",
    "            callbacks: Callbacks to run.\n",
    "            **kwargs: User inputs.\n",
    "\n",
    "        Returns:\n",
    "            Action specifying what tool to use.\n",
    "        \"\"\"\n",
    "        output = await self.llm_chain.arun(\n",
    "            intermediate_steps=intermediate_steps,\n",
    "            stop=self.stop,\n",
    "            callbacks=callbacks,\n",
    "            **kwargs,\n",
    "        )\n",
    "        return self.output_parser.parse(output)\n",
    "\n",
    "    def tool_run_logging_kwargs(self) -> Dict:\n",
    "        return {\n",
    "            \"llm_prefix\": \"\",\n",
    "            \"observation_prefix\": \"\" if len(self.stop) == 0 else self.stop[0],\n",
    "        }\n",
    "    \n",
    "agent = LLMTaskActionAgent(\n",
    "    task_list=TASK_LIST,\n",
    "    llm_chain=location_extractor_chain,\n",
    "    output_parser=output_parser,\n",
    "    stop=[\"\\nObservation:\"],\n",
    "    allowed_tools=tool_names\n",
    ")\n",
    "\n",
    "agent_executor = AgentExecutor.from_agent_and_tools(agent=agent, tools=tools, verbose=True)"
   ]
  },
  {
   "cell_type": "code",
   "execution_count": 21,
   "metadata": {},
   "outputs": [
    {
     "ename": "ValueError",
     "evalue": "Missing some input keys: {'feedback'}",
     "output_type": "error",
     "traceback": [
      "\u001b[1;31m---------------------------------------------------------------------------\u001b[0m",
      "\u001b[1;31mValueError\u001b[0m                                Traceback (most recent call last)",
      "Cell \u001b[1;32mIn[21], line 1\u001b[0m\n\u001b[1;32m----> 1\u001b[0m agent_executor\u001b[39m.\u001b[39;49mrun(article\u001b[39m=\u001b[39;49marticle_text_title)\n",
      "File \u001b[1;32mc:\\Users\\51703\\Documents\\GitHub\\Mointor-Disruption-Events\\env\\lib\\site-packages\\langchain\\chains\\base.py:480\u001b[0m, in \u001b[0;36mChain.run\u001b[1;34m(self, callbacks, tags, metadata, *args, **kwargs)\u001b[0m\n\u001b[0;32m    475\u001b[0m     \u001b[39mreturn\u001b[39;00m \u001b[39mself\u001b[39m(args[\u001b[39m0\u001b[39m], callbacks\u001b[39m=\u001b[39mcallbacks, tags\u001b[39m=\u001b[39mtags, metadata\u001b[39m=\u001b[39mmetadata)[\n\u001b[0;32m    476\u001b[0m         _output_key\n\u001b[0;32m    477\u001b[0m     ]\n\u001b[0;32m    479\u001b[0m \u001b[39mif\u001b[39;00m kwargs \u001b[39mand\u001b[39;00m \u001b[39mnot\u001b[39;00m args:\n\u001b[1;32m--> 480\u001b[0m     \u001b[39mreturn\u001b[39;00m \u001b[39mself\u001b[39;49m(kwargs, callbacks\u001b[39m=\u001b[39;49mcallbacks, tags\u001b[39m=\u001b[39;49mtags, metadata\u001b[39m=\u001b[39;49mmetadata)[\n\u001b[0;32m    481\u001b[0m         _output_key\n\u001b[0;32m    482\u001b[0m     ]\n\u001b[0;32m    484\u001b[0m \u001b[39mif\u001b[39;00m \u001b[39mnot\u001b[39;00m kwargs \u001b[39mand\u001b[39;00m \u001b[39mnot\u001b[39;00m args:\n\u001b[0;32m    485\u001b[0m     \u001b[39mraise\u001b[39;00m \u001b[39mValueError\u001b[39;00m(\n\u001b[0;32m    486\u001b[0m         \u001b[39m\"\u001b[39m\u001b[39m`run` supported with either positional arguments or keyword arguments,\u001b[39m\u001b[39m\"\u001b[39m\n\u001b[0;32m    487\u001b[0m         \u001b[39m\"\u001b[39m\u001b[39m but none were provided.\u001b[39m\u001b[39m\"\u001b[39m\n\u001b[0;32m    488\u001b[0m     )\n",
      "File \u001b[1;32mc:\\Users\\51703\\Documents\\GitHub\\Mointor-Disruption-Events\\env\\lib\\site-packages\\langchain\\chains\\base.py:259\u001b[0m, in \u001b[0;36mChain.__call__\u001b[1;34m(self, inputs, return_only_outputs, callbacks, tags, metadata, include_run_info)\u001b[0m\n\u001b[0;32m    224\u001b[0m \u001b[39mdef\u001b[39;00m \u001b[39m__call__\u001b[39m(\n\u001b[0;32m    225\u001b[0m     \u001b[39mself\u001b[39m,\n\u001b[0;32m    226\u001b[0m     inputs: Union[Dict[\u001b[39mstr\u001b[39m, Any], Any],\n\u001b[1;32m   (...)\u001b[0m\n\u001b[0;32m    232\u001b[0m     include_run_info: \u001b[39mbool\u001b[39m \u001b[39m=\u001b[39m \u001b[39mFalse\u001b[39;00m,\n\u001b[0;32m    233\u001b[0m ) \u001b[39m-\u001b[39m\u001b[39m>\u001b[39m Dict[\u001b[39mstr\u001b[39m, Any]:\n\u001b[0;32m    234\u001b[0m \u001b[39m    \u001b[39m\u001b[39m\"\"\"Execute the chain.\u001b[39;00m\n\u001b[0;32m    235\u001b[0m \n\u001b[0;32m    236\u001b[0m \u001b[39m    Args:\u001b[39;00m\n\u001b[1;32m   (...)\u001b[0m\n\u001b[0;32m    257\u001b[0m \u001b[39m            `Chain.output_keys`.\u001b[39;00m\n\u001b[0;32m    258\u001b[0m \u001b[39m    \"\"\"\u001b[39;00m\n\u001b[1;32m--> 259\u001b[0m     inputs \u001b[39m=\u001b[39m \u001b[39mself\u001b[39;49m\u001b[39m.\u001b[39;49mprep_inputs(inputs)\n\u001b[0;32m    260\u001b[0m     callback_manager \u001b[39m=\u001b[39m CallbackManager\u001b[39m.\u001b[39mconfigure(\n\u001b[0;32m    261\u001b[0m         callbacks,\n\u001b[0;32m    262\u001b[0m         \u001b[39mself\u001b[39m\u001b[39m.\u001b[39mcallbacks,\n\u001b[1;32m   (...)\u001b[0m\n\u001b[0;32m    267\u001b[0m         \u001b[39mself\u001b[39m\u001b[39m.\u001b[39mmetadata,\n\u001b[0;32m    268\u001b[0m     )\n\u001b[0;32m    269\u001b[0m     new_arg_supported \u001b[39m=\u001b[39m inspect\u001b[39m.\u001b[39msignature(\u001b[39mself\u001b[39m\u001b[39m.\u001b[39m_call)\u001b[39m.\u001b[39mparameters\u001b[39m.\u001b[39mget(\u001b[39m\"\u001b[39m\u001b[39mrun_manager\u001b[39m\u001b[39m\"\u001b[39m)\n",
      "File \u001b[1;32mc:\\Users\\51703\\Documents\\GitHub\\Mointor-Disruption-Events\\env\\lib\\site-packages\\langchain\\chains\\base.py:413\u001b[0m, in \u001b[0;36mChain.prep_inputs\u001b[1;34m(self, inputs)\u001b[0m\n\u001b[0;32m    411\u001b[0m     external_context \u001b[39m=\u001b[39m \u001b[39mself\u001b[39m\u001b[39m.\u001b[39mmemory\u001b[39m.\u001b[39mload_memory_variables(inputs)\n\u001b[0;32m    412\u001b[0m     inputs \u001b[39m=\u001b[39m \u001b[39mdict\u001b[39m(inputs, \u001b[39m*\u001b[39m\u001b[39m*\u001b[39mexternal_context)\n\u001b[1;32m--> 413\u001b[0m \u001b[39mself\u001b[39;49m\u001b[39m.\u001b[39;49m_validate_inputs(inputs)\n\u001b[0;32m    414\u001b[0m \u001b[39mreturn\u001b[39;00m inputs\n",
      "File \u001b[1;32mc:\\Users\\51703\\Documents\\GitHub\\Mointor-Disruption-Events\\env\\lib\\site-packages\\langchain\\chains\\base.py:171\u001b[0m, in \u001b[0;36mChain._validate_inputs\u001b[1;34m(self, inputs)\u001b[0m\n\u001b[0;32m    169\u001b[0m missing_keys \u001b[39m=\u001b[39m \u001b[39mset\u001b[39m(\u001b[39mself\u001b[39m\u001b[39m.\u001b[39minput_keys)\u001b[39m.\u001b[39mdifference(inputs)\n\u001b[0;32m    170\u001b[0m \u001b[39mif\u001b[39;00m missing_keys:\n\u001b[1;32m--> 171\u001b[0m     \u001b[39mraise\u001b[39;00m \u001b[39mValueError\u001b[39;00m(\u001b[39mf\u001b[39m\u001b[39m\"\u001b[39m\u001b[39mMissing some input keys: \u001b[39m\u001b[39m{\u001b[39;00mmissing_keys\u001b[39m}\u001b[39;00m\u001b[39m\"\u001b[39m)\n",
      "\u001b[1;31mValueError\u001b[0m: Missing some input keys: {'feedback'}"
     ]
    }
   ],
   "source": [
    "agent_executor.run(article=article_text_title)"
   ]
  }
 ],
 "metadata": {
  "kernelspec": {
   "display_name": "env",
   "language": "python",
   "name": "python3"
  },
  "language_info": {
   "codemirror_mode": {
    "name": "ipython",
    "version": 3
   },
   "file_extension": ".py",
   "mimetype": "text/x-python",
   "name": "python",
   "nbconvert_exporter": "python",
   "pygments_lexer": "ipython3",
   "version": "3.10.10"
  },
  "orig_nbformat": 4
 },
 "nbformat": 4,
 "nbformat_minor": 2
}
